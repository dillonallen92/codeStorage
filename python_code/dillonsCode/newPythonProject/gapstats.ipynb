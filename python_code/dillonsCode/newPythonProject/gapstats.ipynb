{
 "cells": [
  {
   "cell_type": "code",
   "execution_count": 1,
   "metadata": {},
   "outputs": [],
   "source": [
    "import numpy as np \n",
    "import matplotlib.pyplot as plt "
   ]
  },
  {
   "cell_type": "code",
   "execution_count": 140,
   "metadata": {},
   "outputs": [
    {
     "data": {
      "image/png": "[encoded data removed]",
      "text/plain": [
       "<Figure size 432x288 with 1 Axes>"
      ]
     },
     "metadata": {
      "needs_background": "light"
     },
     "output_type": "display_data"
    }
   ],
   "source": [
    "n = 50\n",
    "x = np.random.rand(n,1)\n",
    "y = np.random.rand(n,1)\n",
    "\n",
    "plt.scatter(x,y)\n",
    "plt.xlabel(\"x1\")\n",
    "plt.ylabel(\"x2\")\n",
    "plt.show()"
   ]
  },
  {
   "cell_type": "code",
   "execution_count": 141,
   "metadata": {},
   "outputs": [],
   "source": [
    "from sklearn.cluster import KMeans"
   ]
  },
  {
   "cell_type": "code",
   "execution_count": 142,
   "metadata": {},
   "outputs": [],
   "source": [
    "x = x.reshape(-1)\n",
    "y = y.reshape(-1)\n",
    "X = np.column_stack((x,y))"
   ]
  },
  {
   "cell_type": "code",
   "execution_count": 143,
   "metadata": {},
   "outputs": [
    {
     "data": {
      "text/plain": [
       "array([[0.82516744, 0.81956558],\n",
       "       [0.32508049, 0.07916891],\n",
       "       [0.6915442 , 0.03946714],\n",
       "       [0.62700359, 0.91681397],\n",
       "       [0.57838624, 0.53511032],\n",
       "       [0.64356743, 0.42979195],\n",
       "       [0.13945499, 0.42005718],\n",
       "       [0.39154654, 0.44470066],\n",
       "       [0.61277951, 0.09754733],\n",
       "       [0.94634527, 0.05350019],\n",
       "       [0.54587574, 0.55039542],\n",
       "       [0.64508135, 0.72449262],\n",
       "       [0.51366204, 0.31008124],\n",
       "       [0.99805807, 0.71794882],\n",
       "       [0.17796348, 0.36570802],\n",
       "       [0.28227794, 0.88040573],\n",
       "       [0.91736817, 0.7414282 ],\n",
       "       [0.22087602, 0.47639145],\n",
       "       [0.66499862, 0.30370866],\n",
       "       [0.16628301, 0.7720906 ],\n",
       "       [0.57975594, 0.34717707],\n",
       "       [0.14860687, 0.90481952],\n",
       "       [0.61983698, 0.38716248],\n",
       "       [0.27149755, 0.15295524],\n",
       "       [0.67345834, 0.8480372 ],\n",
       "       [0.82741043, 0.19684016],\n",
       "       [0.80324685, 0.51921943],\n",
       "       [0.15789444, 0.11737728],\n",
       "       [0.91847532, 0.43631657],\n",
       "       [0.29351746, 0.18811115],\n",
       "       [0.22277678, 0.54397403],\n",
       "       [0.12376217, 0.1204875 ],\n",
       "       [0.36822094, 0.77588482],\n",
       "       [0.29884044, 0.40722366],\n",
       "       [0.38829897, 0.61803723],\n",
       "       [0.41760078, 0.79350446],\n",
       "       [0.81590934, 0.45045688],\n",
       "       [0.72105585, 0.63241949],\n",
       "       [0.83903466, 0.16883342],\n",
       "       [0.42725877, 0.95025351],\n",
       "       [0.82074615, 0.17784277],\n",
       "       [0.82277926, 0.7126675 ],\n",
       "       [0.00522051, 0.98840011],\n",
       "       [0.04183424, 0.14003054],\n",
       "       [0.87770769, 0.13249444],\n",
       "       [0.90831752, 0.55050051],\n",
       "       [0.63070315, 0.48296256],\n",
       "       [0.72144497, 0.87437811],\n",
       "       [0.42779323, 0.73462068],\n",
       "       [0.16725809, 0.28087558]])"
      ]
     },
     "execution_count": 143,
     "metadata": {},
     "output_type": "execute_result"
    }
   ],
   "source": [
    "X"
   ]
  },
  {
   "cell_type": "code",
   "execution_count": 144,
   "metadata": {},
   "outputs": [
    {
     "data": {
      "text/plain": [
       "array([[0.52507168, 0.48624476]])"
      ]
     },
     "execution_count": 144,
     "metadata": {},
     "output_type": "execute_result"
    }
   ],
   "source": [
    "kmeans = KMeans(n_clusters=1, random_state=42).fit(X)\n",
    "kmeans.cluster_centers_"
   ]
  },
  {
   "cell_type": "code",
   "execution_count": 145,
   "metadata": {},
   "outputs": [
    {
     "name": "stdout",
     "output_type": "stream",
     "text": [
      "-1.8739779616546843\n"
     ]
    }
   ],
   "source": [
    "dists = []\n",
    "for p in X:\n",
    "  _d = p - kmeans.cluster_centers_\n",
    "  _d = _d.reshape(-1)\n",
    "  _dist = np.dot(_d.T, _d)\n",
    "  dists.append(_dist)\n",
    "w_k = np.average(dists)\n",
    "print(np.log(w_k))"
   ]
  },
  {
   "cell_type": "code",
   "execution_count": 146,
   "metadata": {},
   "outputs": [
    {
     "data": {
      "text/plain": [
       "array([0.52507168, 0.48624476])"
      ]
     },
     "execution_count": 146,
     "metadata": {},
     "output_type": "execute_result"
    }
   ],
   "source": [
    "centerByHand = np.array([np.average(x), np.average(y)])\n",
    "centerByHand"
   ]
  },
  {
   "cell_type": "code",
   "execution_count": 147,
   "metadata": {},
   "outputs": [
    {
     "name": "stdout",
     "output_type": "stream",
     "text": [
      "0.44850890603628746\n",
      "0.45354958167660564\n",
      "0.4767843772738896\n",
      "0.44247029559510337\n",
      "0.0723207109381628\n",
      "0.13125609888914994\n",
      "0.3912557011771421\n",
      "0.13983873914044595\n",
      "0.3984700165523947\n",
      "0.6039365044104187\n",
      "0.06743972367005815\n",
      "0.2667665012476063\n",
      "0.1765326120334182\n",
      "0.5266905148636868\n",
      "0.36744143473878715\n",
      "0.4629380887716373\n",
      "0.46799052008615105\n",
      "0.3043551925309016\n",
      "0.2299977734044164\n",
      "0.4587342936147765\n",
      "0.14943289655977018\n",
      "0.5629658767695356\n",
      "0.13710492237052446\n",
      "0.41878603364079137\n",
      "0.39104012022849305\n",
      "0.41852567508982913\n",
      "0.2801227509564051\n",
      "0.5204635830633674\n",
      "0.39655926519614776\n",
      "0.37749305327715155\n",
      "0.30775781832856147\n",
      "0.542980375374109\n",
      "0.329383548610643\n",
      "0.23963494234896923\n",
      "0.18993690816228087\n",
      "0.3255127035779688\n",
      "0.29303126066783247\n",
      "0.24449304247241832\n",
      "0.4464557192288889\n",
      "0.47420616275190147\n",
      "0.4272413562136909\n",
      "0.3740281616571435\n",
      "0.7227760624961387\n",
      "0.5944600100339619\n",
      "0.4994911876835873\n",
      "0.3885951317144317\n",
      "0.10568244856448367\n",
      "0.43498272012444733\n",
      "0.2667465022752203\n",
      "0.41256158298984674\n"
     ]
    }
   ],
   "source": [
    "distsByHand = [] \n",
    "for p in X:\n",
    "    _d = p - centerByHand\n",
    "    _dist = np.sqrt(np.dot(_d.T, _d))\n",
    "    print(_dist)\n",
    "    distsByHand.append(_dist)\n"
   ]
  },
  {
   "cell_type": "code",
   "execution_count": 148,
   "metadata": {},
   "outputs": [
    {
     "name": "stdout",
     "output_type": "stream",
     "text": [
      "-1.012816532747091\n"
     ]
    }
   ],
   "source": [
    "w_nk = np.average(distsByHand)\n",
    "print(np.log(w_nk))"
   ]
  },
  {
   "cell_type": "code",
   "execution_count": 149,
   "metadata": {},
   "outputs": [
    {
     "data": {
      "text/plain": [
       "0.8611614289075931"
      ]
     },
     "execution_count": 149,
     "metadata": {},
     "output_type": "execute_result"
    }
   ],
   "source": [
    "gap = np.log(w_nk/(2*n)) - np.log(w_k/(2*n))\n",
    "gap"
   ]
  }
 ],
 "metadata": {
  "kernelspec": {
   "display_name": "Python 3",
   "language": "python",
   "name": "python3"
  },
  "language_info": {
   "codemirror_mode": {
    "name": "ipython",
    "version": 3
   },
   "file_extension": ".py",
   "mimetype": "text/x-python",
   "name": "python",
   "nbconvert_exporter": "python",
   "pygments_lexer": "ipython3",
   "version": "3.8.9"
  },
  "orig_nbformat": 4
 },
 "nbformat": 4,
 "nbformat_minor": 2
}
